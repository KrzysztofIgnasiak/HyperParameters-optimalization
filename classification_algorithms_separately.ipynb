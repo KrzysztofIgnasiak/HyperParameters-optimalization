{
 "nbformat": 4,
 "nbformat_minor": 2,
 "metadata": {
  "language_info": {
   "name": "python",
   "codemirror_mode": {
    "name": "ipython",
    "version": 3
   },
   "version": "3.6.5-final"
  },
  "orig_nbformat": 2,
  "file_extension": ".py",
  "mimetype": "text/x-python",
  "name": "python",
  "npconvert_exporter": "python",
  "pygments_lexer": "ipython3",
  "version": 3,
  "kernelspec": {
   "name": "python36532bite5c6eb67d3504d5689ec65739ff520cb",
   "display_name": "Python 3.6.5 32-bit"
  }
 },
 "cells": [
  {
   "cell_type": "code",
   "execution_count": 1,
   "metadata": {},
   "outputs": [],
   "source": [
    "import pandas as pd\n",
    "import numpy as np\n",
    "\n",
    "from sklearn.model_selection import KFold, cross_val_score, train_test_split \n",
    "from sklearn import preprocessing"
   ]
  },
  {
   "cell_type": "code",
   "execution_count": 2,
   "metadata": {},
   "outputs": [],
   "source": [
    "from hyperopt import fmin, tpe, hp, SparkTrials, STATUS_OK, Trials"
   ]
  },
  {
   "cell_type": "code",
   "execution_count": 3,
   "metadata": {},
   "outputs": [],
   "source": [
    "from sklearn.naive_bayes import BernoulliNB\n",
    "from sklearn.ensemble import RandomForestClassifier\n",
    "from sklearn.linear_model import RidgeClassifier, LogisticRegression\n",
    "from sklearn.neighbors import KNeighborsClassifier\n",
    "from sklearn.svm import SVC"
   ]
  },
  {
   "cell_type": "code",
   "execution_count": 4,
   "metadata": {},
   "outputs": [],
   "source": [
    "df = pd.read_csv(\"heart.csv\", sep=',')\n",
    "X = df.drop(\"target\",axis=1)\n",
    "y = df[\"target\"].values\n",
    "\n",
    "X = pd.get_dummies(X, columns = ['cp','thal','slope'])"
   ]
  },
  {
   "cell_type": "code",
   "execution_count": 16,
   "metadata": {},
   "outputs": [],
   "source": [
    "standard_scaler = preprocessing.StandardScaler()"
   ]
  },
  {
   "cell_type": "code",
   "execution_count": 17,
   "metadata": {},
   "outputs": [],
   "source": [
    "X_standard = standard_scaler.fit_transform(X)"
   ]
  },
  {
   "cell_type": "code",
   "execution_count": null,
   "metadata": {},
   "outputs": [],
   "source": [
    "svm = SVC()\n",
    "scores = cross_val_score(svm, X_standard, y, cv=10)"
   ]
  },
  {
   "cell_type": "code",
   "execution_count": null,
   "metadata": {},
   "outputs": [],
   "source": [
    "print(\"Accuracy: %0.2f (+/- %0.2f)\" % (scores.mean(), scores.std() * 2))"
   ]
  },
  {
   "cell_type": "code",
   "execution_count": null,
   "metadata": {},
   "outputs": [],
   "source": [
    "space4svm = {\n",
    "    'C': hp.uniform('C', 0, 20),\n",
    "    'kernel': hp.choice('kernel', ['linear', 'sigmoid', 'poly', 'rbf']),\n",
    "    'gamma': hp.uniform('gamma', 0, 20)\n",
    "}"
   ]
  },
  {
   "cell_type": "code",
   "execution_count": null,
   "metadata": {},
   "outputs": [],
   "source": [
    "def Objective4svm(params):\n",
    "    clf = SVC(**params)\n",
    "    accuracy = cross_val_score(clf, X_standard, y, cv = 10).mean()\n",
    "    return {'loss': -accuracy, 'status': STATUS_OK}  \n",
    ""
   ]
  },
  {
   "cell_type": "code",
   "execution_count": null,
   "metadata": {},
   "outputs": [],
   "source": [
    "trials4svm = Trials()\n",
    "algo=tpe.suggest\n",
    "best_result = fmin(\n",
    "    fn=Objective4svm, \n",
    "    space=space4svm,\n",
    "    algo=algo,\n",
    "    max_evals=20,\n",
    "    trials=trials4svm)"
   ]
  },
  {
   "cell_type": "code",
   "execution_count": null,
   "metadata": {},
   "outputs": [],
   "source": [
    "space4svmWithScaling = {\n",
    "    'C': hp.uniform('C', 0, 20),\n",
    "    'kernel': hp.choice('kernel', ['linear', 'sigmoid', 'poly', 'rbf']),\n",
    "    'gamma': hp.uniform('gamma', 0, 20),\n",
    "    'scale': hp.choice('scale', [0, 1]),\n",
    "    'normalize': hp.choice('normalize', [0, 1])\n",
    "}"
   ]
  },
  {
   "cell_type": "code",
   "execution_count": null,
   "metadata": {},
   "outputs": [],
   "source": [
    "def Objective4svmWithScale(params):\n",
    "    X_ = X\n",
    "    if 'normalize' in params:\n",
    "        if params['normalize'] == 1:\n",
    "            X_ = preprocessing.normalize(X_)\n",
    "        del params['normalize']      \n",
    "    if 'scale' in params:\n",
    "        if params['scale'] == 1:\n",
    "            X_ = preprocessing.scale(X_)       \n",
    "        del params['scale']\n",
    "    clf = SVC(**params)\n",
    "    accuracy = cross_val_score(clf, X_, y, cv = 10).mean()\n",
    "    return {'loss': -accuracy, 'status': STATUS_OK}  "
   ]
  },
  {
   "cell_type": "code",
   "execution_count": null,
   "metadata": {},
   "outputs": [],
   "source": [
    "trials4svmScale = Trials()\n",
    "algo=tpe.suggest\n",
    "best_result = fmin(\n",
    "    fn=Objective4svmWithScale, \n",
    "    space=space4svmWithScaling,\n",
    "    algo=algo,\n",
    "    max_evals=20,\n",
    "    trials=trials4svmScale)"
   ]
  },
  {
   "cell_type": "code",
   "execution_count": 5,
   "metadata": {},
   "outputs": [],
   "source": [
    "Ridge = RidgeClassifier()\n",
    "scores = cross_val_score(Ridge, X, y, cv=10)"
   ]
  },
  {
   "cell_type": "code",
   "execution_count": 6,
   "metadata": {},
   "outputs": [
    {
     "output_type": "stream",
     "name": "stdout",
     "text": "Accuracy: 0.84 (+/- 0.09)\n"
    }
   ],
   "source": [
    "print(\"Accuracy: %0.2f (+/- %0.2f)\" % (scores.mean(), scores.std() * 2))"
   ]
  },
  {
   "cell_type": "code",
   "execution_count": 10,
   "metadata": {},
   "outputs": [],
   "source": [
    "def Objective4Ringe(params):\n",
    "    clf = RidgeClassifier(**params)\n",
    "    accuracy = cross_val_score(clf, X, y,cv = 10).mean()\n",
    "    \n",
    "    return {'loss': -accuracy, 'status': STATUS_OK}"
   ]
  },
  {
   "cell_type": "code",
   "execution_count": 8,
   "metadata": {},
   "outputs": [],
   "source": [
    "space4Ridge = {\n",
    "    'alpha': hp.uniform('alpha', 0.0, 2.0)\n",
    "}"
   ]
  },
  {
   "cell_type": "code",
   "execution_count": 11,
   "metadata": {},
   "outputs": [
    {
     "output_type": "stream",
     "name": "stdout",
     "text": "100%|██████████| 20/20 [00:01<00:00, 10.47trial/s, best loss: -0.8413978494623656]\n"
    }
   ],
   "source": [
    "trials4Ridge = Trials()\n",
    "algo=tpe.suggest\n",
    "best_result = fmin(\n",
    "    fn=Objective4Ringe, \n",
    "    space=space4Ridge,\n",
    "    algo=algo,\n",
    "    max_evals=20,\n",
    "    trials=trials4Ridge)"
   ]
  },
  {
   "cell_type": "code",
   "execution_count": 12,
   "metadata": {},
   "outputs": [],
   "source": [
    "normalizer = preprocessing.Normalizer()\n",
    "X_normalize = normalizer.fit_transform(X)"
   ]
  },
  {
   "cell_type": "code",
   "execution_count": 13,
   "metadata": {},
   "outputs": [],
   "source": [
    "RF = RandomForestClassifier()\n",
    "scores = cross_val_score(Ridge, X_normalize, y, cv=10)\n",
    ""
   ]
  },
  {
   "cell_type": "code",
   "execution_count": 14,
   "metadata": {},
   "outputs": [
    {
     "output_type": "stream",
     "name": "stdout",
     "text": "Accuracy: 0.68 (+/- 0.17)\n"
    }
   ],
   "source": [
    "print(\"Accuracy: %0.2f (+/- %0.2f)\" % (scores.mean(), scores.std() * 2))"
   ]
  },
  {
   "cell_type": "code",
   "execution_count": 18,
   "metadata": {},
   "outputs": [],
   "source": [
    "RF = RandomForestClassifier()\n",
    "scores = cross_val_score(Ridge, X_standard, y, cv=10)"
   ]
  },
  {
   "cell_type": "code",
   "execution_count": 20,
   "metadata": {},
   "outputs": [
    {
     "output_type": "stream",
     "name": "stdout",
     "text": "Accuracy: 0.84 (+/- 0.09)\n"
    }
   ],
   "source": [
    "print(\"Accuracy: %0.2f (+/- %0.2f)\" % (scores.mean(), scores.std() * 2))"
   ]
  },
  {
   "cell_type": "code",
   "execution_count": 21,
   "metadata": {},
   "outputs": [],
   "source": [
    "space4Forest = {\n",
    "    'max_depth': hp.choice('max_depth', range(1,20)),\n",
    "        'max_features': hp.choice('max_features', range(1,5)),\n",
    "        'n_estimators': hp.choice('n_estimators', range(1,20)),\n",
    "        'criterion': hp.choice('criterion', [\"gini\", \"entropy\"])\n",
    "}"
   ]
  },
  {
   "cell_type": "code",
   "execution_count": 22,
   "metadata": {},
   "outputs": [],
   "source": [
    "def Objective4Forest(params):\n",
    "    clf = RandomForestClassifier(**params)\n",
    "    accuracy = cross_val_score(clf, X, y,cv = 10).mean()\n",
    "    \n",
    "    return {'loss': -accuracy, 'status': STATUS_OK}"
   ]
  },
  {
   "cell_type": "code",
   "execution_count": 23,
   "metadata": {},
   "outputs": [
    {
     "output_type": "stream",
     "name": "stdout",
     "text": "100%|██████████| 20/20 [00:04<00:00,  4.06trial/s, best loss: -0.8417204301075267]\n"
    }
   ],
   "source": [
    "trials4Forest = Trials()\n",
    "algo=tpe.suggest\n",
    "best_result = fmin(\n",
    "    fn=Objective4Forest, \n",
    "    space=space4Forest,\n",
    "    algo=algo,\n",
    "    max_evals=20,\n",
    "    trials=trials4Forest)"
   ]
  },
  {
   "cell_type": "code",
   "execution_count": 24,
   "metadata": {},
   "outputs": [],
   "source": [
    "minMax_scaler = preprocessing.MinMaxScaler()\n",
    "X_minMax  = minMax_scaler.fit_transform(X)"
   ]
  },
  {
   "cell_type": "code",
   "execution_count": 25,
   "metadata": {},
   "outputs": [],
   "source": [
    " knn = KNeighborsClassifier()\n",
    " scores = cross_val_score(Ridge, X_minMax, y, cv=10)"
   ]
  },
  {
   "cell_type": "code",
   "execution_count": 26,
   "metadata": {},
   "outputs": [
    {
     "output_type": "stream",
     "name": "stdout",
     "text": "Accuracy: 0.84 (+/- 0.09)\n"
    }
   ],
   "source": [
    "print(\"Accuracy: %0.2f (+/- %0.2f)\" % (scores.mean(), scores.std() * 2))"
   ]
  },
  {
   "cell_type": "code",
   "execution_count": 27,
   "metadata": {},
   "outputs": [],
   "source": [
    "def Objective4knn(params):\n",
    "    clf = KNeighborsClassifier(**params)\n",
    "    accuracy = cross_val_score(clf, X_minMax, y,cv = 10).mean()\n",
    "    \n",
    "    return {'loss': -accuracy, 'status': STATUS_OK}"
   ]
  },
  {
   "cell_type": "code",
   "execution_count": 28,
   "metadata": {},
   "outputs": [],
   "source": [
    "space4knn = {\n",
    "  'n_neighbors': hp.choice('knn_n_neighbors', range(1,50)),\n",
    "        'weights' :hp.choice('weights', ['uniform','distance']),\n",
    "        'metric': hp.choice('metric',['euclidean','manhattan', 'minkowski'])\n",
    "}"
   ]
  },
  {
   "cell_type": "code",
   "execution_count": 29,
   "metadata": {},
   "outputs": [
    {
     "output_type": "stream",
     "name": "stdout",
     "text": "100%|██████████| 20/20 [00:01<00:00, 13.98trial/s, best loss: -0.8450537634408603]\n"
    }
   ],
   "source": [
    "trials4knn = Trials()\n",
    "algo=tpe.suggest\n",
    "best_result = fmin(\n",
    "    fn=Objective4knn, \n",
    "    space=space4knn,\n",
    "    algo=algo,\n",
    "    max_evals=20,\n",
    "    trials=trials4knn)"
   ]
  },
  {
   "cell_type": "code",
   "execution_count": 30,
   "metadata": {},
   "outputs": [],
   "source": [
    "quantile_Tranformer_uniform = preprocessing.QuantileTransformer()\n",
    "X_quantile = quantile_Tranformer_uniform.fit_transform(X)"
   ]
  },
  {
   "cell_type": "code",
   "execution_count": 33,
   "metadata": {},
   "outputs": [],
   "source": [
    " logistic = LogisticRegression()\n",
    " scores = cross_val_score(logistic, X_quantile, y, cv=10)"
   ]
  },
  {
   "cell_type": "code",
   "execution_count": 34,
   "metadata": {},
   "outputs": [
    {
     "output_type": "stream",
     "name": "stdout",
     "text": "Accuracy: 0.84 (+/- 0.10)\n"
    }
   ],
   "source": [
    "print(\"Accuracy: %0.2f (+/- %0.2f)\" % (scores.mean(), scores.std() * 2))"
   ]
  },
  {
   "cell_type": "code",
   "execution_count": 35,
   "metadata": {},
   "outputs": [],
   "source": [
    "space4Logistic = {\n",
    "        'penalty': hp.choice('penalty', ['l1', 'l2', 'elasticnet', 'none']),\n",
    "          'C': hp.uniform('C', 0, 2.0)\n",
    "}"
   ]
  },
  {
   "cell_type": "code",
   "execution_count": 36,
   "metadata": {},
   "outputs": [],
   "source": [
    "def Objective4Logistic(params):\n",
    "    clf = LogisticRegression(**params)\n",
    "    accuracy = cross_val_score(clf, X_quantile, y,cv = 10).mean()\n",
    "    \n",
    "    return {'loss': -accuracy, 'status': STATUS_OK}"
   ]
  },
  {
   "cell_type": "code",
   "execution_count": 37,
   "metadata": {},
   "outputs": [
    {
     "output_type": "stream",
     "name": "stdout",
     "text": "100%|██████████| 20/20 [00:01<00:00, 12.39trial/s, best loss: -0.8447311827956989]\n"
    }
   ],
   "source": [
    "trials4Logistic = Trials()\n",
    "algo=tpe.suggest\n",
    "best_result = fmin(\n",
    "    fn=Objective4Logistic, \n",
    "    space=space4Logistic,\n",
    "    algo=algo,\n",
    "    max_evals=20,\n",
    "    trials=trials4Logistic)"
   ]
  },
  {
   "cell_type": "code",
   "execution_count": 38,
   "metadata": {},
   "outputs": [],
   "source": [
    "power_Transformer = preprocessing.PowerTransformer()\n",
    "X_power = power_Transformer.fit_transform(X)"
   ]
  },
  {
   "cell_type": "code",
   "execution_count": 39,
   "metadata": {},
   "outputs": [],
   "source": [
    " Bayes = BernoulliNB()\n",
    " scores = cross_val_score(Bayes, X_power, y, cv=10)"
   ]
  },
  {
   "cell_type": "code",
   "execution_count": 40,
   "metadata": {},
   "outputs": [
    {
     "output_type": "stream",
     "name": "stdout",
     "text": "Accuracy: 0.84 (+/- 0.11)\n"
    }
   ],
   "source": [
    "print(\"Accuracy: %0.2f (+/- %0.2f)\" % (scores.mean(), scores.std() * 2))"
   ]
  },
  {
   "cell_type": "code",
   "execution_count": 41,
   "metadata": {},
   "outputs": [],
   "source": [
    "scores = cross_val_score(Bayes, X, y, cv=10)"
   ]
  },
  {
   "cell_type": "code",
   "execution_count": 42,
   "metadata": {},
   "outputs": [
    {
     "output_type": "stream",
     "name": "stdout",
     "text": "Accuracy: 0.81 (+/- 0.10)\n"
    }
   ],
   "source": [
    "print(\"Accuracy: %0.2f (+/- %0.2f)\" % (scores.mean(), scores.std() * 2))"
   ]
  },
  {
   "cell_type": "code",
   "execution_count": 43,
   "metadata": {},
   "outputs": [],
   "source": [
    "scores = cross_val_score(Bayes, X_standard, y, cv=10)"
   ]
  },
  {
   "cell_type": "code",
   "execution_count": 44,
   "metadata": {},
   "outputs": [
    {
     "output_type": "stream",
     "name": "stdout",
     "text": "Accuracy: 0.85 (+/- 0.09)\n"
    }
   ],
   "source": [
    "print(\"Accuracy: %0.2f (+/- %0.2f)\" % (scores.mean(), scores.std() * 2))"
   ]
  },
  {
   "cell_type": "code",
   "execution_count": 45,
   "metadata": {},
   "outputs": [],
   "source": [
    "scores = cross_val_score(Bayes, X_minMax, y, cv=10)"
   ]
  },
  {
   "cell_type": "code",
   "execution_count": 46,
   "metadata": {},
   "outputs": [
    {
     "output_type": "stream",
     "name": "stdout",
     "text": "Accuracy: 0.81 (+/- 0.10)\n"
    }
   ],
   "source": [
    "print(\"Accuracy: %0.2f (+/- %0.2f)\" % (scores.mean(), scores.std() * 2))"
   ]
  },
  {
   "cell_type": "code",
   "execution_count": null,
   "metadata": {},
   "outputs": [],
   "source": []
  }
 ]
}