{
 "nbformat": 4,
 "nbformat_minor": 2,
 "metadata": {
  "language_info": {
   "name": "python",
   "codemirror_mode": {
    "name": "ipython",
    "version": 3
   },
   "version": "3.6.5-final"
  },
  "orig_nbformat": 2,
  "file_extension": ".py",
  "mimetype": "text/x-python",
  "name": "python",
  "npconvert_exporter": "python",
  "pygments_lexer": "ipython3",
  "version": 3,
  "kernelspec": {
   "name": "python3",
   "display_name": "Python 3"
  }
 },
 "cells": [
  {
   "cell_type": "code",
   "execution_count": null,
   "metadata": {},
   "outputs": [],
   "source": [
    "# loading packages\n",
    "import pandas as pd\n",
    "import numpy as np\n",
    "\n",
    "from sklearn.model_selection import KFold, cross_val_score, train_test_split "
   ]
  },
  {
   "cell_type": "code",
   "execution_count": null,
   "metadata": {},
   "outputs": [],
   "source": [
    "# loading data\n",
    "df = pd.read_csv(\"heart.csv\", sep=',')"
   ]
  },
  {
   "cell_type": "code",
   "execution_count": null,
   "metadata": {},
   "outputs": [],
   "source": [
    "# checking for null\n",
    "df.isnull().sum(axis = 0)"
   ]
  },
  {
   "cell_type": "code",
   "execution_count": null,
   "metadata": {},
   "outputs": [],
   "source": [
    "# split\n",
    "X = df.drop(\"target\",axis=1)\n",
    "y = df[\"target\"].values\n",
    ""
   ]
  },
  {
   "cell_type": "code",
   "execution_count": null,
   "metadata": {},
   "outputs": [],
   "source": [
    "# create dummies\n",
    "#TODO: Try this way\n",
    "X = pd.get_dummies(X, columns = ['cp','thal','slope'])"
   ]
  },
  {
   "cell_type": "code",
   "execution_count": null,
   "metadata": {},
   "outputs": [],
   "source": [
    "X.head(10)"
   ]
  },
  {
   "cell_type": "code",
   "execution_count": null,
   "metadata": {},
   "outputs": [],
   "source": [
    "#Scaling for SVM\n",
    "#TODO:\n",
    "#check if all columns should be scalled\n",
    " \n",
    "from sklearn import preprocessing\n",
    "standard_scaler = preprocessing.StandardScaler()\n",
    "X_standard = standard_scaler.fit_transform(X)"
   ]
  },
  {
   "cell_type": "code",
   "execution_count": null,
   "metadata": {},
   "outputs": [],
   "source": [
    "from sklearn.svm import SVC\n",
    "from sklearn.model_selection import cross_val_score\n",
    "svm = SVC()\n",
    "scores = cross_val_score(svm, X_standard, y, cv=5)"
   ]
  },
  {
   "cell_type": "code",
   "execution_count": null,
   "metadata": {},
   "outputs": [],
   "source": [
    " print(\"Accuracy: %0.2f (+/- %0.2f)\" % (scores.mean(), scores.std() * 2))"
   ]
  },
  {
   "cell_type": "code",
   "execution_count": null,
   "metadata": {},
   "outputs": [],
   "source": [
    "from hyperopt import fmin, tpe, hp, SparkTrials, STATUS_OK, Trials"
   ]
  },
  {
   "cell_type": "code",
   "execution_count": null,
   "metadata": {},
   "outputs": [],
   "source": [
    "from sklearn.naive_bayes import BernoulliNB\n",
    "from sklearn.ensemble import RandomForestClassifier\n",
    "from sklearn.linear_model import RidgeClassifier, LogisticRegression\n",
    "from sklearn.neighbors import KNeighborsClassifier"
   ]
  },
  {
   "cell_type": "code",
   "execution_count": null,
   "metadata": {},
   "outputs": [],
   "source": [
    "def objective(params):\n",
    "    classifier_type = params['type']\n",
    "    del params['type']\n",
    "    if classifier_type == 'naive_bayes':\n",
    "        clf = BernoulliNB(**params)\n",
    "    elif classifier_type == 'ridge_Classifier':\n",
    "        clf = RidgeClassifier(**params)\n",
    "    elif classifier_type == 'logistic_regression':\n",
    "        clf = LogisticRegression(**params)\n",
    "    elif classifier_type == 'svm':\n",
    "        clf = SVC(**params)\n",
    "    elif classifier_type == 'knn':\n",
    "        clf = KNeighborsClassifier(**params)  \n",
    "    elif classifier_type == 'randomforest':\n",
    "        clf = RandomForestClassifier(**params)                \n",
    "    else:\n",
    "        return 0\n",
    "    accuracy = cross_val_score(clf, X, y).mean()\n",
    "    \n",
    "    return {'loss': -accuracy, 'status': STATUS_OK}\n"
   ]
  },
  {
   "cell_type": "code",
   "execution_count": null,
   "metadata": {},
   "outputs": [],
   "source": [
    "search_space = hp.choice('classifier_type', [\n",
    "    {\n",
    "        'type': 'naive_bayes',\n",
    "    },\n",
    "    {\n",
    "        'type':'ridge_Classifier',\n",
    "        'alpha': hp.uniform('alpha', 0.0, 2.0)\n",
    "    }\n",
    "    {\n",
    "        'type': 'logistic_regression',\n",
    "        'penalty': hp.choice('penalty', ['l1', 'l2', 'elasticnet', 'none']),\n",
    "        'C': hp.uniform('C',0, 2)\n",
    "    },\n",
    "    {\n",
    "        'type': 'svm',\n",
    "        'C': hp.lognormal('C', 0, 1.0),\n",
    "        'kernel': hp.choice('kernel', ['linear', 'rbf','poly']),\n",
    "        'gamma': hp.uniform('gamma', 0, 20.0)\n",
    "\n",
    "    },\n",
    "    {\n",
    "        'type': 'knn',\n",
    "        'n_neighbors': hp.choice('knn_n_neighbors', range(1,50)),\n",
    "        'weights' :hp.choise('weights', ['uniform','distance'])\n",
    "        'metric': hp.choice('metric',['euclidean','manhattan', 'minkowski'])\n",
    "        \n",
    "\n",
    "    }\n",
    "    { 'type': 'randomforest',\n",
    "        'max_depth': hp.choice('max_depth', range(1,20)),\n",
    "        'max_features': hp.choice('max_features', range(1,5)),\n",
    "        'n_estimators': hp.choice('n_estimators', range(1,20)),\n",
    "        'criterion': hp.choice('criterion', [\"gini\", \"entropy\"])\n",
    "    }\n",
    "])"
   ]
  },
  {
   "cell_type": "code",
   "execution_count": null,
   "metadata": {},
   "outputs": [],
   "source": [
    "trials = Trials()\n",
    "algo=tpe.suggest\n",
    "best_result = fmin(\n",
    "    fn=objective, \n",
    "    space=search_space,\n",
    "    algo=algo,\n",
    "    max_evals=16,\n",
    "    trials= trials())"
   ]
  },
  {
   "cell_type": "code",
   "execution_count": null,
   "metadata": {},
   "outputs": [],
   "source": [
    "print(best_result)"
   ]
  },
  {
   "cell_type": "code",
   "execution_count": null,
   "metadata": {},
   "outputs": [],
   "source": []
  }
 ]
}